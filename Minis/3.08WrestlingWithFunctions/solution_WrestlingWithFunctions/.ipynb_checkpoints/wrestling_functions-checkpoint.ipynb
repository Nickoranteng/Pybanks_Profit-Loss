{
 "cells": [
  {
   "cell_type": "code",
   "execution_count": null,
   "metadata": {},
   "outputs": [],
   "source": [
    "import os\n",
    "import csv"
   ]
  },
  {
   "cell_type": "code",
   "execution_count": null,
   "metadata": {},
   "outputs": [],
   "source": [
    "# %% file Path for data collection\n",
    "wrestling_csv = os.path.join('..', 'Resources', 'WWE-Data-2016.csv')"
   ]
  },
  {
   "cell_type": "code",
   "execution_count": null,
   "metadata": {},
   "outputs": [],
   "source": [
    "# %% Define the function with'wrestler_data' as  parameter\n",
    "def print_percentages(wrestler_data):\n",
    "    \n",
    "    name = str(wrestler_data[0])\n",
    "    wins = int(wrestler_data[1])\n",
    "    losses = int(wrestler_data[2])\n",
    "    draws = int(wrestler_data[3])\n",
    "\n",
    "    # sum wins, losses, and draws to get total\n",
    "    total_matches = wins + losses + draws\n",
    "\n",
    "    # calculate win percentage\n",
    "    win_percent = (wins / total_matches) * 100\n",
    "\n",
    "    # calculate loss percentage\n",
    "    loss_percent = (losses / total_matches) * 100\n",
    "\n",
    "    # calculate draw percentage\n",
    "    draw_percent = (draws / total_matches) * 100\n",
    "\n",
    "    # If loss percentage > 50, type_of_wrestler is \"Jobber\". else \"Superstar\".\n",
    "    if loss_percent > 50:\n",
    "        type_of_wrestler = \"Jobber\"\n",
    "    else:\n",
    "        type_of_wrestler = \"Superstar\"\n",
    "\n",
    "    # Print  wrestler's info and stats\n",
    "    print(f\"Stats for {name}\")\n",
    "    print(f\"WIN PERCENT: {win_percent}\")\n",
    "    print(f\"LOSS PERCENT: {loss_percent}\")\n",
    "    print(f\"DRAW PERCENT: {draw_percent}\")\n",
    "    print(f\"{name} is a {type_of_wrestler}\")"
   ]
  },
  {
   "cell_type": "code",
   "execution_count": null,
   "metadata": {},
   "outputs": [],
   "source": [
    "# %% Read in the CSV file\n",
    "with open(wrestling_csv, 'r') as csvfile:\n",
    "\n",
    "    # Split the data using  comma delimiter\n",
    "    csvreader = csv.reader(csvfile, delimiter=',')\n",
    "\n",
    "    header = next(csvreader)\n",
    "\n",
    "    # Prompt the user for what wrestler they would like to search for\n",
    "    name_to_check = input(\"wrestlers name and  stats \")\n",
    "\n",
    "    \n",
    "    for row in csvreader:\n",
    "\n",
    "        # If the wrestler's name is equal to that which the user input, 'print_percentages()' function\n",
    "        if name_to_check == row[0]:\n",
    "            print_percentages(row)"
   ]
  },
  {
   "cell_type": "code",
   "execution_count": null,
   "metadata": {},
   "outputs": [],
   "source": []
  }
 ],
 "metadata": {
  "kernelspec": {
   "display_name": "Python 3",
   "language": "python",
   "name": "python3"
  },
  "language_info": {
   "codemirror_mode": {
    "name": "ipython",
    "version": 3
   },
   "file_extension": ".py",
   "mimetype": "text/x-python",
   "name": "python",
   "nbconvert_exporter": "python",
   "pygments_lexer": "ipython3",
   "version": "3.8.3"
  }
 },
 "nbformat": 4,
 "nbformat_minor": 2
}
